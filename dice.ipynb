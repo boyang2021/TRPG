{
 "cells": [
  {
   "cell_type": "code",
   "execution_count": 2,
   "metadata": {},
   "outputs": [],
   "source": [
    "import random"
   ]
  },
  {
   "cell_type": "code",
   "execution_count": 12,
   "metadata": {},
   "outputs": [],
   "source": [
    "class Dice:\n",
    "    def __init__(self, dice_number, side_number):\n",
    "        if dice_number <= 30 and side_number <= 100:\n",
    "            self.dice_number = dice_number\n",
    "            self.side_number = side_number\n",
    "            self.result_list =[]\n",
    "            result_total = 0\n",
    "            for dice in range (dice_number):\n",
    "                result = random.randint(1, side_number)\n",
    "                self.result_list.append(result)\n",
    "                result_total += result\n",
    "            self.result_total = result_total\n",
    "        else:\n",
    "            pass\n",
    "    \n",
    "    def __str__(self):\n",
    "        return f\"{self.dice_number} {self.side_number} {self.result_list} {self.result_total}\""
   ]
  },
  {
   "cell_type": "code",
   "execution_count": 3,
   "metadata": {},
   "outputs": [
    {
     "data": {
      "text/plain": [
       "<__main__.Dice at 0x1eaed7ae4b0>"
      ]
     },
     "execution_count": 3,
     "metadata": {},
     "output_type": "execute_result"
    }
   ],
   "source": [
    "Dice(20,100)"
   ]
  },
  {
   "cell_type": "code",
   "execution_count": 7,
   "metadata": {},
   "outputs": [
    {
     "name": "stdout",
     "output_type": "stream",
     "text": [
      "4 6 [1, 5, 1, 5] 12\n"
     ]
    }
   ],
   "source": [
    "print(Dice(4,6))"
   ]
  },
  {
   "cell_type": "code",
   "execution_count": 18,
   "metadata": {},
   "outputs": [],
   "source": [
    "class DND_Attirbute_Dice (Dice):\n",
    "    def __init__(self):\n",
    "        super().__init__(self,4,6)\n",
    "    \n",
    "    def __str__(self):\n",
    "        return super().__str__()"
   ]
  },
  {
   "cell_type": "code",
   "execution_count": 19,
   "metadata": {},
   "outputs": [
    {
     "ename": "TypeError",
     "evalue": "Dice.__init__() takes 3 positional arguments but 4 were given",
     "output_type": "error",
     "traceback": [
      "\u001b[1;31m---------------------------------------------------------------------------\u001b[0m",
      "\u001b[1;31mTypeError\u001b[0m                                 Traceback (most recent call last)",
      "\u001b[1;32md:\\Users\\boyan\\OneDrive\\Documents\\GitHub\\TRPG\\dice.ipynb Cell 6\u001b[0m line \u001b[0;36m1\n\u001b[1;32m----> <a href='vscode-notebook-cell:/d%3A/Users/boyan/OneDrive/Documents/GitHub/TRPG/dice.ipynb#W5sZmlsZQ%3D%3D?line=0'>1</a>\u001b[0m \u001b[39mprint\u001b[39m(DND_Attirbute_Dice())\n",
      "\u001b[1;32md:\\Users\\boyan\\OneDrive\\Documents\\GitHub\\TRPG\\dice.ipynb Cell 6\u001b[0m line \u001b[0;36m3\n\u001b[0;32m      <a href='vscode-notebook-cell:/d%3A/Users/boyan/OneDrive/Documents/GitHub/TRPG/dice.ipynb#W5sZmlsZQ%3D%3D?line=1'>2</a>\u001b[0m \u001b[39mdef\u001b[39;00m \u001b[39m__init__\u001b[39m(\u001b[39mself\u001b[39m):\n\u001b[1;32m----> <a href='vscode-notebook-cell:/d%3A/Users/boyan/OneDrive/Documents/GitHub/TRPG/dice.ipynb#W5sZmlsZQ%3D%3D?line=2'>3</a>\u001b[0m     \u001b[39msuper\u001b[39;49m()\u001b[39m.\u001b[39;49m\u001b[39m__init__\u001b[39;49m(\u001b[39mself\u001b[39;49m,\u001b[39m4\u001b[39;49m,\u001b[39m6\u001b[39;49m)\n",
      "\u001b[1;31mTypeError\u001b[0m: Dice.__init__() takes 3 positional arguments but 4 were given"
     ]
    }
   ],
   "source": [
    "print(DND_Attirbute_Dice())"
   ]
  }
 ],
 "metadata": {
  "kernelspec": {
   "display_name": "Python 3",
   "language": "python",
   "name": "python3"
  },
  "language_info": {
   "codemirror_mode": {
    "name": "ipython",
    "version": 3
   },
   "file_extension": ".py",
   "mimetype": "text/x-python",
   "name": "python",
   "nbconvert_exporter": "python",
   "pygments_lexer": "ipython3",
   "version": "3.12.0"
  }
 },
 "nbformat": 4,
 "nbformat_minor": 2
}
