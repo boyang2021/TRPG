{
 "cells": [
  {
   "cell_type": "code",
   "execution_count": 3,
   "metadata": {},
   "outputs": [],
   "source": [
    "from Dice import DND_Attirbute_Dice"
   ]
  },
  {
   "cell_type": "code",
   "execution_count": 5,
   "metadata": {},
   "outputs": [],
   "source": [
    "class DND_Attribute:\n",
    "    def __init__(self):\n",
    "        self.attribute_list = []\n",
    "        for each_attribute in range(6):\n",
    "            self.attribute_list.append(DND_Attirbute_Dice().result_total)\n",
    "    def __str__(self):\n",
    "        return f\"{self.attribute_list}\""
   ]
  },
  {
   "cell_type": "code",
   "execution_count": 9,
   "metadata": {},
   "outputs": [
    {
     "name": "stdout",
     "output_type": "stream",
     "text": [
      "[16, 15, 8, 8, 15, 10]\n"
     ]
    }
   ],
   "source": [
    "print(DND_Attribute())"
   ]
  }
 ],
 "metadata": {
  "kernelspec": {
   "display_name": "Python 3",
   "language": "python",
   "name": "python3"
  },
  "language_info": {
   "codemirror_mode": {
    "name": "ipython",
    "version": 3
   },
   "file_extension": ".py",
   "mimetype": "text/x-python",
   "name": "python",
   "nbconvert_exporter": "python",
   "pygments_lexer": "ipython3",
   "version": "3.12.0"
  }
 },
 "nbformat": 4,
 "nbformat_minor": 2
}
