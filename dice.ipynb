{
 "cells": [
  {
   "cell_type": "code",
   "execution_count": 1,
   "metadata": {},
   "outputs": [],
   "source": [
    "import random"
   ]
  },
  {
   "cell_type": "code",
   "execution_count": 2,
   "metadata": {},
   "outputs": [],
   "source": [
    "class Dice:\n",
    "    def __init__(self, dice_number, side_number):\n",
    "        if dice_number <= 30 and side_number <= 100:\n",
    "            self.dice_number = dice_number\n",
    "            self.side_number = side_number\n",
    "            self.result_list =[]\n",
    "            result_total = 0\n",
    "            for dice in range (dice_number):\n",
    "                result = random.randint(1, side_number)\n",
    "                self.result_list.append(result)\n",
    "                result_total += result\n",
    "            self.result_total = result_total\n",
    "        else:\n",
    "            pass\n",
    "    \n",
    "    def __str__(self):\n",
    "        return f\"{self.dice_number} {self.side_number} {self.result_list} {self.result_total}\""
   ]
  },
  {
   "cell_type": "code",
   "execution_count": 3,
   "metadata": {},
   "outputs": [],
   "source": [
    "class DND_Attirbute_Dice (Dice):\n",
    "    def __init__(self):\n",
    "        super().__init__(4,6)\n",
    "        minimal = min(self.result_list)\n",
    "        self.result_list.remove(minimal)\n",
    "        self.result_total -= minimal\n",
    "    def __str__(self):\n",
    "        return super().__str__()"
   ]
  },
  {
   "cell_type": "code",
   "execution_count": 6,
   "metadata": {},
   "outputs": [
    {
     "name": "stdout",
     "output_type": "stream",
     "text": [
      "[2, 4, 6]\n"
     ]
    }
   ],
   "source": [
    "print (DND_Attirbute_Dice().result_list)"
   ]
  }
 ],
 "metadata": {
  "kernelspec": {
   "display_name": "Python 3",
   "language": "python",
   "name": "python3"
  },
  "language_info": {
   "codemirror_mode": {
    "name": "ipython",
    "version": 3
   },
   "file_extension": ".py",
   "mimetype": "text/x-python",
   "name": "python",
   "nbconvert_exporter": "python",
   "pygments_lexer": "ipython3",
   "version": "3.12.0"
  }
 },
 "nbformat": 4,
 "nbformat_minor": 2
}
